{
  "cells": [
    {
      "cell_type": "code",
      "execution_count": null,
      "metadata": {
        "cellView": "form",
        "id": "WLySAA5Ly6vE"
      },
      "outputs": [],
      "source": [
        "# @title # 1. Install dependecies\n",
        "import sys\n",
        "\n",
        "if 'google.colab' in sys.modules:\n",
        "    !git clone https://github.com/IvanHCenalmor/Auto_Slides.git\n",
        "    sys.path.append('Auto_Slides')\n",
        "    !pip install -q -r \"Auto_Slides/requirements.txt\"\n",
        "\n",
        "from datetime import datetime, timedelta\n",
        "import os\n",
        "\n",
        "from Auto_Slides.script import create_ppt_with_date_and_members"
      ]
    },
    {
      "cell_type": "code",
      "source": [
        "# @title # 2. Connect with Google Drive\n",
        "\n",
        "from google.colab import drive\n",
        "drive.mount('/content/drive')"
      ],
      "metadata": {
        "cellView": "form",
        "id": "CJOOS8C4zQox"
      },
      "execution_count": null,
      "outputs": []
    },
    {
      "cell_type": "code",
      "execution_count": null,
      "metadata": {
        "cellView": "form",
        "id": "WKMWApIFy6vG"
      },
      "outputs": [],
      "source": [
        "# @title # 3. Generate the slides\n",
        "\n",
        "# List of lab members\n",
        "lab_members = [\"Guillaume\",\n",
        "            \"Gautier\",\n",
        "            \"Joanna\",\n",
        "            \"Hannah\",\n",
        "            \"Jaakko\",\n",
        "            \"Ana\",\n",
        "            \"Sujan\",\n",
        "            \"Sarah\",\n",
        "            \"Monika\",\n",
        "            \"Marcela\",\n",
        "            \"Iván\",\n",
        "            \"Johanna\"]\n",
        "\n",
        "# Generate PowerPoint files with weekly dates and individual slides for each member\n",
        "start_date = \"2025-01-21\" # @param {\"type\":\"date\"}\n",
        "end_date = \"2025-01-21\" # @param {\"type\":\"date\"}\n",
        "save_path = \"/content/drive/MyDrive/Presentations\" # @param {\"type\":\"string\",\"placeholder\":\"presentations/\"}\n",
        "filename = \"5min_Presentation.pptx\" # @param {\"type\":\"string\",\"placeholder\":\"presentation.pptx\"}\n",
        "\n",
        "start_year, start_month, start_day = map(int, start_date.split('-'))\n",
        "end_year, end_month, end_day = map(int, end_date.split('-'))\n",
        "\n",
        "start_date = datetime(start_year, start_month, start_day)\n",
        "end_date = datetime(end_year, end_month, end_day)\n",
        "current_date = start_date\n",
        "\n",
        "os.makedirs(save_path, exist_ok=True)\n",
        "\n",
        "while current_date <= end_date:\n",
        "    filename = f\"{current_date.strftime('%Y-%m-%d')}_{filename}\"\n",
        "    create_ppt_with_date_and_members(current_date, save_path, filename, lab_members)\n",
        "    current_date += timedelta(weeks=1)"
      ]
    }
  ],
  "metadata": {
    "kernelspec": {
      "display_name": "prueba",
      "language": "python",
      "name": "python3"
    },
    "language_info": {
      "name": "python",
      "version": "3.9.21"
    },
    "colab": {
      "provenance": []
    }
  },
  "nbformat": 4,
  "nbformat_minor": 0
}