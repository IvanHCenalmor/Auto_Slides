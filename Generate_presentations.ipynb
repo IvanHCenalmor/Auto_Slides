{
 "cells": [
  {
   "cell_type": "markdown",
   "metadata": {},
   "source": [
    "# 1. Install dependencies"
   ]
  },
  {
   "cell_type": "code",
   "execution_count": null,
   "metadata": {},
   "outputs": [],
   "source": [
    "import sys\n",
    "\n",
    "if 'google.colab' in sys.modules:\n",
    "    !git clone https://github.com/IvanHCenalmor/Auto_Slides.git\n",
    "    sys.path.append('Auto_Slides')\n",
    "    !pip install -r \"Auto_Slides/requirements.txt\"\n",
    "\n",
    "from datetime import datetime, timedelta\n",
    "import os\n",
    "\n",
    "from automatic_lab_slides import create_ppt_with_date_and_members"
   ]
  },
  {
   "cell_type": "markdown",
   "metadata": {},
   "source": [
    "# 2. Generate the slides "
   ]
  },
  {
   "cell_type": "code",
   "execution_count": null,
   "metadata": {},
   "outputs": [],
   "source": [
    "# List of lab members\n",
    "lab_members = [\"Guillaume\",\n",
    "            \"Gautier\",\n",
    "            \"Joanna\",\n",
    "            \"Hannah\",\n",
    "            \"Jaakko\",\n",
    "            \"Ana\",\n",
    "            \"Sujan\",\n",
    "            \"Sarah\",\n",
    "            \"Monika\",\n",
    "            \"Marcela\",\n",
    "            \"Iván\",\n",
    "            \"Johanna\"]\n",
    "\n",
    "# Generate PowerPoint files with weekly dates and individual slides for each member\n",
    "start_date = datetime(2025, 1, 27)\n",
    "end_date = datetime(2025, 3, 1)\n",
    "current_date = start_date\n",
    "\n",
    "save_path = \"presentations/\"\n",
    "os.makedirs(save_path, exist_ok=True)\n",
    "\n",
    "while current_date <= end_date:\n",
    "    filename = f\"{current_date.strftime('%Y%m%d')}_5min_Presentaiton.pptx\"\n",
    "    create_ppt_with_date_and_members(current_date, save_path, filename, lab_members)\n",
    "    current_date += timedelta(weeks=1)"
   ]
  }
 ],
 "metadata": {
  "kernelspec": {
   "display_name": "prueba",
   "language": "python",
   "name": "python3"
  },
  "language_info": {
   "name": "python",
   "version": "3.9.21"
  }
 },
 "nbformat": 4,
 "nbformat_minor": 2
}
